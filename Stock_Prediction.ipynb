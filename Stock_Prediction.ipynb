{
  "nbformat": 4,
  "nbformat_minor": 0,
  "metadata": {
    "colab": {
      "name": "Stock Prediction.ipynb",
      "provenance": [],
      "collapsed_sections": []
    },
    "kernelspec": {
      "name": "python3",
      "display_name": "Python 3"
    }
  },
  "cells": [
    {
      "cell_type": "markdown",
      "metadata": {
        "id": "mpqS5c4GeNWm",
        "colab_type": "text"
      },
      "source": [
        "**Description**: This Project Will Predict the open price of a company name Amazon using a Long Short Term memory using a Neural network\n"
      ]
    },
    {
      "cell_type": "code",
      "metadata": {
        "id": "S4ADOa3VTIXK",
        "colab_type": "code",
        "outputId": "e3fac0df-7310-4131-a985-2ed38cf92cf5",
        "colab": {
          "base_uri": "https://localhost:8080/",
          "height": 100
        }
      },
      "source": [
        "#importing a require library\n",
        "import math\n",
        "import pandas_datareader as web\n",
        "import numpy as np\n",
        "import pandas as pd\n",
        "from sklearn.preprocessing import MinMaxScaler\n",
        "from keras.models import Sequential\n",
        "from keras.layers import Dense, LSTM\n",
        "import matplotlib.pyplot as plt\n",
        "plt.style.use('fivethirtyeight')"
      ],
      "execution_count": 0,
      "outputs": [
        {
          "output_type": "stream",
          "text": [
            "Using TensorFlow backend.\n"
          ],
          "name": "stderr"
        },
        {
          "output_type": "display_data",
          "data": {
            "text/html": [
              "<p style=\"color: red;\">\n",
              "The default version of TensorFlow in Colab will soon switch to TensorFlow 2.x.<br>\n",
              "We recommend you <a href=\"https://www.tensorflow.org/guide/migrate\" target=\"_blank\">upgrade</a> now \n",
              "or ensure your notebook will continue to use TensorFlow 1.x via the <code>%tensorflow_version 1.x</code> magic:\n",
              "<a href=\"https://colab.research.google.com/notebooks/tensorflow_version.ipynb\" target=\"_blank\">more info</a>.</p>\n"
            ],
            "text/plain": [
              "<IPython.core.display.HTML object>"
            ]
          },
          "metadata": {
            "tags": []
          }
        }
      ]
    },
    {
      "cell_type": "code",
      "metadata": {
        "id": "uR9IWDn7gMNc",
        "colab_type": "code",
        "outputId": "3e67ee31-456c-405c-ddd7-6d4f1ae6b86c",
        "colab": {
          "base_uri": "https://localhost:8080/",
          "height": 455
        }
      },
      "source": [
        "#get stock data\n",
        "df = web.DataReader('AMZN', data_source='yahoo', start='2012-01-01', end='2019-12-17')\n",
        "df"
      ],
      "execution_count": 0,
      "outputs": [
        {
          "output_type": "execute_result",
          "data": {
            "text/html": [
              "<div>\n",
              "<style scoped>\n",
              "    .dataframe tbody tr th:only-of-type {\n",
              "        vertical-align: middle;\n",
              "    }\n",
              "\n",
              "    .dataframe tbody tr th {\n",
              "        vertical-align: top;\n",
              "    }\n",
              "\n",
              "    .dataframe thead th {\n",
              "        text-align: right;\n",
              "    }\n",
              "</style>\n",
              "<table border=\"1\" class=\"dataframe\">\n",
              "  <thead>\n",
              "    <tr style=\"text-align: right;\">\n",
              "      <th></th>\n",
              "      <th>High</th>\n",
              "      <th>Low</th>\n",
              "      <th>Open</th>\n",
              "      <th>Close</th>\n",
              "      <th>Volume</th>\n",
              "      <th>Adj Close</th>\n",
              "    </tr>\n",
              "    <tr>\n",
              "      <th>Date</th>\n",
              "      <th></th>\n",
              "      <th></th>\n",
              "      <th></th>\n",
              "      <th></th>\n",
              "      <th></th>\n",
              "      <th></th>\n",
              "    </tr>\n",
              "  </thead>\n",
              "  <tbody>\n",
              "    <tr>\n",
              "      <th>2012-01-03</th>\n",
              "      <td>179.479996</td>\n",
              "      <td>175.550003</td>\n",
              "      <td>175.889999</td>\n",
              "      <td>179.029999</td>\n",
              "      <td>5110800</td>\n",
              "      <td>179.029999</td>\n",
              "    </tr>\n",
              "    <tr>\n",
              "      <th>2012-01-04</th>\n",
              "      <td>180.500000</td>\n",
              "      <td>176.070007</td>\n",
              "      <td>179.210007</td>\n",
              "      <td>177.509995</td>\n",
              "      <td>4205200</td>\n",
              "      <td>177.509995</td>\n",
              "    </tr>\n",
              "    <tr>\n",
              "      <th>2012-01-05</th>\n",
              "      <td>178.250000</td>\n",
              "      <td>174.050003</td>\n",
              "      <td>175.940002</td>\n",
              "      <td>177.610001</td>\n",
              "      <td>3809100</td>\n",
              "      <td>177.610001</td>\n",
              "    </tr>\n",
              "    <tr>\n",
              "      <th>2012-01-06</th>\n",
              "      <td>184.649994</td>\n",
              "      <td>177.500000</td>\n",
              "      <td>178.070007</td>\n",
              "      <td>182.610001</td>\n",
              "      <td>7008400</td>\n",
              "      <td>182.610001</td>\n",
              "    </tr>\n",
              "    <tr>\n",
              "      <th>2012-01-09</th>\n",
              "      <td>184.369995</td>\n",
              "      <td>177.000000</td>\n",
              "      <td>182.759995</td>\n",
              "      <td>178.559998</td>\n",
              "      <td>5056900</td>\n",
              "      <td>178.559998</td>\n",
              "    </tr>\n",
              "    <tr>\n",
              "      <th>...</th>\n",
              "      <td>...</td>\n",
              "      <td>...</td>\n",
              "      <td>...</td>\n",
              "      <td>...</td>\n",
              "      <td>...</td>\n",
              "      <td>...</td>\n",
              "    </tr>\n",
              "    <tr>\n",
              "      <th>2019-12-11</th>\n",
              "      <td>1750.000000</td>\n",
              "      <td>1735.709961</td>\n",
              "      <td>1741.670044</td>\n",
              "      <td>1748.719971</td>\n",
              "      <td>2097600</td>\n",
              "      <td>1748.719971</td>\n",
              "    </tr>\n",
              "    <tr>\n",
              "      <th>2019-12-12</th>\n",
              "      <td>1764.000000</td>\n",
              "      <td>1745.439941</td>\n",
              "      <td>1750.000000</td>\n",
              "      <td>1760.329956</td>\n",
              "      <td>3095900</td>\n",
              "      <td>1760.329956</td>\n",
              "    </tr>\n",
              "    <tr>\n",
              "      <th>2019-12-13</th>\n",
              "      <td>1768.989990</td>\n",
              "      <td>1755.000000</td>\n",
              "      <td>1765.000000</td>\n",
              "      <td>1760.939941</td>\n",
              "      <td>2745700</td>\n",
              "      <td>1760.939941</td>\n",
              "    </tr>\n",
              "    <tr>\n",
              "      <th>2019-12-16</th>\n",
              "      <td>1769.500000</td>\n",
              "      <td>1757.050049</td>\n",
              "      <td>1767.000000</td>\n",
              "      <td>1769.209961</td>\n",
              "      <td>3145200</td>\n",
              "      <td>1769.209961</td>\n",
              "    </tr>\n",
              "    <tr>\n",
              "      <th>2019-12-17</th>\n",
              "      <td>1792.000000</td>\n",
              "      <td>1777.390015</td>\n",
              "      <td>1778.010010</td>\n",
              "      <td>1790.660034</td>\n",
              "      <td>3644400</td>\n",
              "      <td>1790.660034</td>\n",
              "    </tr>\n",
              "  </tbody>\n",
              "</table>\n",
              "<p>2003 rows × 6 columns</p>\n",
              "</div>"
            ],
            "text/plain": [
              "                   High          Low  ...   Volume    Adj Close\n",
              "Date                                  ...                      \n",
              "2012-01-03   179.479996   175.550003  ...  5110800   179.029999\n",
              "2012-01-04   180.500000   176.070007  ...  4205200   177.509995\n",
              "2012-01-05   178.250000   174.050003  ...  3809100   177.610001\n",
              "2012-01-06   184.649994   177.500000  ...  7008400   182.610001\n",
              "2012-01-09   184.369995   177.000000  ...  5056900   178.559998\n",
              "...                 ...          ...  ...      ...          ...\n",
              "2019-12-11  1750.000000  1735.709961  ...  2097600  1748.719971\n",
              "2019-12-12  1764.000000  1745.439941  ...  3095900  1760.329956\n",
              "2019-12-13  1768.989990  1755.000000  ...  2745700  1760.939941\n",
              "2019-12-16  1769.500000  1757.050049  ...  3145200  1769.209961\n",
              "2019-12-17  1792.000000  1777.390015  ...  3644400  1790.660034\n",
              "\n",
              "[2003 rows x 6 columns]"
            ]
          },
          "metadata": {
            "tags": []
          },
          "execution_count": 2
        }
      ]
    },
    {
      "cell_type": "code",
      "metadata": {
        "id": "yy_GX4YwjwAY",
        "colab_type": "code",
        "outputId": "fbd5b412-a269-4a9f-ecc5-faefa0d11142",
        "colab": {
          "base_uri": "https://localhost:8080/",
          "height": 35
        }
      },
      "source": [
        "df.shape"
      ],
      "execution_count": 0,
      "outputs": [
        {
          "output_type": "execute_result",
          "data": {
            "text/plain": [
              "(2003, 6)"
            ]
          },
          "metadata": {
            "tags": []
          },
          "execution_count": 3
        }
      ]
    },
    {
      "cell_type": "code",
      "metadata": {
        "id": "FsvTO_g2kVww",
        "colab_type": "code",
        "outputId": "5b040e68-3559-4baa-ca8c-d41c223ad36b",
        "colab": {
          "base_uri": "https://localhost:8080/",
          "height": 804
        }
      },
      "source": [
        "plt.figure(figsize=(20,10))\n",
        "plt.title(\"Open Price History\")\n",
        "plt.plot(df['Open'])\n",
        "plt.xlabel(\"Date\",fontsize=18)\n",
        "plt.ylabel(\"Open Price \",fontsize=18)\n",
        "plt.show()\n"
      ],
      "execution_count": 0,
      "outputs": [
        {
          "output_type": "stream",
          "text": [
            "/usr/local/lib/python3.6/dist-packages/pandas/plotting/_matplotlib/converter.py:103: FutureWarning: Using an implicitly registered datetime converter for a matplotlib plotting method. The converter was registered by pandas on import. Future versions of pandas will require you to explicitly register matplotlib converters.\n",
            "\n",
            "To register the converters:\n",
            "\t>>> from pandas.plotting import register_matplotlib_converters\n",
            "\t>>> register_matplotlib_converters()\n",
            "  warnings.warn(msg, FutureWarning)\n"
          ],
          "name": "stderr"
        },
        {
          "output_type": "display_data",
          "data": {
            "image/png": "[encoded data removed]",
            "text/plain": [
              "<Figure size 1440x720 with 1 Axes>"
            ]
          },
          "metadata": {
            "tags": []
          }
        }
      ]
    },
    {
      "cell_type": "code",
      "metadata": {
        "id": "OQLS3EqflUcS",
        "colab_type": "code",
        "outputId": "694ff03e-ab63-4fb7-f590-ae8a7c7bd38c",
        "colab": {
          "base_uri": "https://localhost:8080/",
          "height": 35
        }
      },
      "source": [
        "#create a new dataframe with only 'open Column'\n",
        "data=df.filter(['Open'])\n",
        "#converting into numpy\n",
        "dataset=data.values\n",
        "#Get number of rows to train the model\n",
        "data_len=math.ceil(len(dataset)*.8)\n",
        "data_len"
      ],
      "execution_count": 0,
      "outputs": [
        {
          "output_type": "execute_result",
          "data": {
            "text/plain": [
              "1603"
            ]
          },
          "metadata": {
            "tags": []
          },
          "execution_count": 5
        }
      ]
    },
    {
      "cell_type": "code",
      "metadata": {
        "id": "A0ck9fmMnPh8",
        "colab_type": "code",
        "outputId": "444cafc4-31a7-4869-8510-811d9724ba68",
        "colab": {
          "base_uri": "https://localhost:8080/",
          "height": 144
        }
      },
      "source": [
        "#Scale a data\n",
        "scaler= MinMaxScaler(feature_range=(0,1))\n",
        "scaled_data = scaler.fit_transform(dataset)\n",
        "scaled_data"
      ],
      "execution_count": 0,
      "outputs": [
        {
          "output_type": "execute_result",
          "data": {
            "text/plain": [
              "array([[0.0011157 ],\n",
              "       [0.00289653],\n",
              "       [0.00114252],\n",
              "       ...,\n",
              "       [0.85350534],\n",
              "       [0.85457813],\n",
              "       [0.86048384]])"
            ]
          },
          "metadata": {
            "tags": []
          },
          "execution_count": 6
        }
      ]
    },
    {
      "cell_type": "code",
      "metadata": {
        "id": "dnUFAJQ9ojyk",
        "colab_type": "code",
        "outputId": "9009675d-07ab-4cb3-e37b-a4a7216aca22",
        "colab": {
          "base_uri": "https://localhost:8080/",
          "height": 746
        }
      },
      "source": [
        "#Create A tranning dataset\n",
        "#Create the scaled tranning dataset\n",
        "train_data=scaled_data[0:data_len,:]\n",
        "#split the data in x and y train dataset\n",
        "x_train=[]\n",
        "y_train=[]\n",
        "for i in range(60,len(train_data)):\n",
        "  x_train.append(train_data[i-60:i,0])\n",
        "  y_train.append(train_data[i,0])\n",
        "  if i<=61:\n",
        "    print(x_train)\n",
        "    print(y_train)\n",
        "    print()   \n",
        "\n"
      ],
      "execution_count": 0,
      "outputs": [
        {
          "output_type": "stream",
          "text": [
            "[array([0.0011157 , 0.00289653, 0.00114252, 0.00228505, 0.00480073,\n",
            "       0.00391032, 0.00312718, 0.00300917, 0.00107279, 0.00340074,\n",
            "       0.00436089, 0.00915626, 0.00906507, 0.00910797, 0.00600225,\n",
            "       0.00706968, 0.00830875, 0.01034168, 0.01065815, 0.0108298 ,\n",
            "       0.        , 0.00313254, 0.00483828, 0.00668884, 0.00474172,\n",
            "       0.00597543, 0.00573406, 0.00515475, 0.00716623, 0.00926353,\n",
            "       0.00937617, 0.00213485, 0.00336856, 0.00474172, 0.00436625,\n",
            "       0.00312718, 0.00315936, 0.00200075, 0.00273025, 0.00540686,\n",
            "       0.00326128, 0.00304136, 0.00278389, 0.00261224, 0.00474172,\n",
            "       0.00555705, 0.0069624 , 0.00553559, 0.00542295, 0.00527812,\n",
            "       0.0044038 , 0.00507966, 0.00517084, 0.00593789, 0.01002521,\n",
            "       0.00897388, 0.00976238, 0.01216006, 0.01597382, 0.01734163])]\n",
            "[0.014734753741656781]\n",
            "\n",
            "[array([0.0011157 , 0.00289653, 0.00114252, 0.00228505, 0.00480073,\n",
            "       0.00391032, 0.00312718, 0.00300917, 0.00107279, 0.00340074,\n",
            "       0.00436089, 0.00915626, 0.00906507, 0.00910797, 0.00600225,\n",
            "       0.00706968, 0.00830875, 0.01034168, 0.01065815, 0.0108298 ,\n",
            "       0.        , 0.00313254, 0.00483828, 0.00668884, 0.00474172,\n",
            "       0.00597543, 0.00573406, 0.00515475, 0.00716623, 0.00926353,\n",
            "       0.00937617, 0.00213485, 0.00336856, 0.00474172, 0.00436625,\n",
            "       0.00312718, 0.00315936, 0.00200075, 0.00273025, 0.00540686,\n",
            "       0.00326128, 0.00304136, 0.00278389, 0.00261224, 0.00474172,\n",
            "       0.00555705, 0.0069624 , 0.00553559, 0.00542295, 0.00527812,\n",
            "       0.0044038 , 0.00507966, 0.00517084, 0.00593789, 0.01002521,\n",
            "       0.00897388, 0.00976238, 0.01216006, 0.01597382, 0.01734163]), array([0.00289653, 0.00114252, 0.00228505, 0.00480073, 0.00391032,\n",
            "       0.00312718, 0.00300917, 0.00107279, 0.00340074, 0.00436089,\n",
            "       0.00915626, 0.00906507, 0.00910797, 0.00600225, 0.00706968,\n",
            "       0.00830875, 0.01034168, 0.01065815, 0.0108298 , 0.        ,\n",
            "       0.00313254, 0.00483828, 0.00668884, 0.00474172, 0.00597543,\n",
            "       0.00573406, 0.00515475, 0.00716623, 0.00926353, 0.00937617,\n",
            "       0.00213485, 0.00336856, 0.00474172, 0.00436625, 0.00312718,\n",
            "       0.00315936, 0.00200075, 0.00273025, 0.00540686, 0.00326128,\n",
            "       0.00304136, 0.00278389, 0.00261224, 0.00474172, 0.00555705,\n",
            "       0.0069624 , 0.00553559, 0.00542295, 0.00527812, 0.0044038 ,\n",
            "       0.00507966, 0.00517084, 0.00593789, 0.01002521, 0.00897388,\n",
            "       0.00976238, 0.01216006, 0.01597382, 0.01734163, 0.01473475])]\n",
            "[0.014734753741656781, 0.01674087159696591]\n",
            "\n"
          ],
          "name": "stdout"
        }
      ]
    },
    {
      "cell_type": "code",
      "metadata": {
        "id": "eznOh44iqt-S",
        "colab_type": "code",
        "colab": {}
      },
      "source": [
        "#Convert the x_train and y_train to numpy arrays \n",
        "x_train, y_train = np.array(x_train), np.array(y_train)"
      ],
      "execution_count": 0,
      "outputs": []
    },
    {
      "cell_type": "code",
      "metadata": {
        "id": "gxPEvJKrq8lv",
        "colab_type": "code",
        "outputId": "b4c35122-d1f1-4a0b-c04c-1ae519a9f60f",
        "colab": {
          "base_uri": "https://localhost:8080/",
          "height": 35
        }
      },
      "source": [
        "#Reshape The Data\n",
        "x_train=np.reshape(x_train,(x_train.shape[0],x_train.shape[1],1))\n",
        "x_train.shape"
      ],
      "execution_count": 0,
      "outputs": [
        {
          "output_type": "execute_result",
          "data": {
            "text/plain": [
              "(1543, 60, 1)"
            ]
          },
          "metadata": {
            "tags": []
          },
          "execution_count": 9
        }
      ]
    },
    {
      "cell_type": "code",
      "metadata": {
        "id": "L-Cbih3stvoF",
        "colab_type": "code",
        "colab": {}
      },
      "source": [
        "#Build the LSTM model\n",
        "model = Sequential()\n",
        "model.add(LSTM(50, return_sequences=True, input_shape= (x_train.shape[1], 1)))\n",
        "model.add(LSTM(50, return_sequences= False))\n",
        "model.add(Dense(25))\n",
        "model.add(Dense(1))"
      ],
      "execution_count": 0,
      "outputs": []
    },
    {
      "cell_type": "code",
      "metadata": {
        "id": "apQMSXUTt1U-",
        "colab_type": "code",
        "colab": {}
      },
      "source": [
        "#Compile the model\n",
        "model.compile(optimizer='adam', loss='mean_squared_error')"
      ],
      "execution_count": 0,
      "outputs": []
    },
    {
      "cell_type": "code",
      "metadata": {
        "id": "6oTF1npMt-Ke",
        "colab_type": "code",
        "outputId": "28aec602-80b8-4773-ad5d-2e7597b777df",
        "colab": {
          "base_uri": "https://localhost:8080/",
          "height": 92
        }
      },
      "source": [
        "\n",
        "\n",
        "#Train the model\n",
        "model.fit(x_train, y_train, batch_size=1, epochs=1)\n",
        "\n"
      ],
      "execution_count": 0,
      "outputs": [
        {
          "output_type": "stream",
          "text": [
            "Epoch 1/1\n",
            "1543/1543 [==============================] - 112s 72ms/step - loss: 1.7694e-04\n"
          ],
          "name": "stdout"
        },
        {
          "output_type": "execute_result",
          "data": {
            "text/plain": [
              "<keras.callbacks.History at 0x7f4611041320>"
            ]
          },
          "metadata": {
            "tags": []
          },
          "execution_count": 83
        }
      ]
    },
    {
      "cell_type": "code",
      "metadata": {
        "id": "yJUyQ_OuuaOX",
        "colab_type": "code",
        "colab": {}
      },
      "source": [
        "#Create the testing data set\n",
        "#Create a new array containing scaled values from index 1543 to 2000\n",
        "test_data=scaled_data[data_len-60:,:]\n",
        "#Create x_test,y_test\n",
        "x_test=[]\n",
        "y_test=[dataset[data_len:,:]]\n",
        "for i in range(60,len(test_data)):\n",
        "  x_test.append(test_data[i-60:i, 0])"
      ],
      "execution_count": 0,
      "outputs": []
    },
    {
      "cell_type": "code",
      "metadata": {
        "id": "f8pSfV1ZvwSp",
        "colab_type": "code",
        "colab": {}
      },
      "source": [
        "#Convert the data to a numpy array\n",
        "x_test=np.array(x_test)"
      ],
      "execution_count": 0,
      "outputs": []
    },
    {
      "cell_type": "code",
      "metadata": {
        "id": "JIQTMRM9v1lw",
        "colab_type": "code",
        "colab": {}
      },
      "source": [
        "#Reshape the data\n",
        "x_test = np.reshape(x_test,(x_test.shape[0],x_test.shape[1],1 ))"
      ],
      "execution_count": 0,
      "outputs": []
    },
    {
      "cell_type": "code",
      "metadata": {
        "id": "-mSPXiH5SRH_",
        "colab_type": "code",
        "colab": {}
      },
      "source": [
        "# Get th model predicted the price values\n",
        "predictions=model.predict(x_test)\n",
        "predictions=scaler.inverse_transform(predictions)\n"
      ],
      "execution_count": 0,
      "outputs": []
    },
    {
      "cell_type": "code",
      "metadata": {
        "id": "sJcsDk3bTVQB",
        "colab_type": "code",
        "outputId": "29a731ec-0230-4373-a6c9-2c438b97fe80",
        "colab": {
          "base_uri": "https://localhost:8080/",
          "height": 35
        }
      },
      "source": [
        "#Geting the root mean square error (RMSE)\n",
        "rmse=np.sqrt(np.mean(predictions- y_test)**2)\n",
        "rmse"
      ],
      "execution_count": 0,
      "outputs": [
        {
          "output_type": "execute_result",
          "data": {
            "text/plain": [
              "2.851382141113281"
            ]
          },
          "metadata": {
            "tags": []
          },
          "execution_count": 89
        }
      ]
    },
    {
      "cell_type": "code",
      "metadata": {
        "id": "7UOJ0NPoeJqC",
        "colab_type": "code",
        "outputId": "3fb2836e-8615-4a55-d60f-8a1e1d2218c9",
        "colab": {
          "base_uri": "https://localhost:8080/",
          "height": 687
        }
      },
      "source": [
        "#Plot the data\n",
        "train = data[:data_len]\n",
        "valid = data[data_len:]\n",
        "valid['Predictions'] = predictions\n",
        "#Visualize the data\n",
        "plt.figure(figsize=(16,8))\n",
        "plt.title('Model')\n",
        "plt.xlabel('Date', fontsize=18)\n",
        "plt.ylabel('Open Price USD ($)', fontsize=18)\n",
        "plt.plot(train['Open'])\n",
        "plt.plot(valid[['Open', 'Predictions']])\n",
        "plt.legend(['Train', 'Val', 'Predictions'], loc='lower right')\n",
        "plt.show()"
      ],
      "execution_count": 0,
      "outputs": [
        {
          "output_type": "stream",
          "text": [
            "/usr/local/lib/python3.6/dist-packages/ipykernel_launcher.py:3: SettingWithCopyWarning: \n",
            "A value is trying to be set on a copy of a slice from a DataFrame.\n",
            "Try using .loc[row_indexer,col_indexer] = value instead\n",
            "\n",
            "See the caveats in the documentation: http://pandas.pydata.org/pandas-docs/stable/user_guide/indexing.html#returning-a-view-versus-a-copy\n",
            "  This is separate from the ipykernel package so we can avoid doing imports until\n"
          ],
          "name": "stderr"
        },
        {
          "output_type": "display_data",
          "data": {
            "image/png": "[encoded data removed]",
            "text/plain": [
              "<Figure size 1152x576 with 1 Axes>"
            ]
          },
          "metadata": {
            "tags": []
          }
        }
      ]
    },
    {
      "cell_type": "code",
      "metadata": {
        "id": "PHVHED7Le6Nj",
        "colab_type": "code",
        "outputId": "17bb9500-d37a-4b35-a543-c7d41485ce45",
        "colab": {
          "base_uri": "https://localhost:8080/",
          "height": 455
        }
      },
      "source": [
        "#Show the valid and predicted prices\n",
        "valid"
      ],
      "execution_count": 0,
      "outputs": [
        {
          "output_type": "execute_result",
          "data": {
            "text/html": [
              "<div>\n",
              "<style scoped>\n",
              "    .dataframe tbody tr th:only-of-type {\n",
              "        vertical-align: middle;\n",
              "    }\n",
              "\n",
              "    .dataframe tbody tr th {\n",
              "        vertical-align: top;\n",
              "    }\n",
              "\n",
              "    .dataframe thead th {\n",
              "        text-align: right;\n",
              "    }\n",
              "</style>\n",
              "<table border=\"1\" class=\"dataframe\">\n",
              "  <thead>\n",
              "    <tr style=\"text-align: right;\">\n",
              "      <th></th>\n",
              "      <th>Open</th>\n",
              "      <th>Predictions</th>\n",
              "    </tr>\n",
              "    <tr>\n",
              "      <th>Date</th>\n",
              "      <th></th>\n",
              "      <th></th>\n",
              "    </tr>\n",
              "  </thead>\n",
              "  <tbody>\n",
              "    <tr>\n",
              "      <th>2018-05-17</th>\n",
              "      <td>1580.560059</td>\n",
              "      <td>1586.983765</td>\n",
              "    </tr>\n",
              "    <tr>\n",
              "      <th>2018-05-18</th>\n",
              "      <td>1581.329956</td>\n",
              "      <td>1590.307251</td>\n",
              "    </tr>\n",
              "    <tr>\n",
              "      <th>2018-05-21</th>\n",
              "      <td>1585.000000</td>\n",
              "      <td>1589.187256</td>\n",
              "    </tr>\n",
              "    <tr>\n",
              "      <th>2018-05-22</th>\n",
              "      <td>1589.890015</td>\n",
              "      <td>1593.515503</td>\n",
              "    </tr>\n",
              "    <tr>\n",
              "      <th>2018-05-23</th>\n",
              "      <td>1571.050049</td>\n",
              "      <td>1597.208008</td>\n",
              "    </tr>\n",
              "    <tr>\n",
              "      <th>...</th>\n",
              "      <td>...</td>\n",
              "      <td>...</td>\n",
              "    </tr>\n",
              "    <tr>\n",
              "      <th>2019-12-11</th>\n",
              "      <td>1741.670044</td>\n",
              "      <td>1754.320068</td>\n",
              "    </tr>\n",
              "    <tr>\n",
              "      <th>2019-12-12</th>\n",
              "      <td>1750.000000</td>\n",
              "      <td>1748.996582</td>\n",
              "    </tr>\n",
              "    <tr>\n",
              "      <th>2019-12-13</th>\n",
              "      <td>1765.000000</td>\n",
              "      <td>1758.118042</td>\n",
              "    </tr>\n",
              "    <tr>\n",
              "      <th>2019-12-16</th>\n",
              "      <td>1767.000000</td>\n",
              "      <td>1769.598999</td>\n",
              "    </tr>\n",
              "    <tr>\n",
              "      <th>2019-12-17</th>\n",
              "      <td>1778.010010</td>\n",
              "      <td>1769.183350</td>\n",
              "    </tr>\n",
              "  </tbody>\n",
              "</table>\n",
              "<p>400 rows × 2 columns</p>\n",
              "</div>"
            ],
            "text/plain": [
              "                   Open  Predictions\n",
              "Date                                \n",
              "2018-05-17  1580.560059  1586.983765\n",
              "2018-05-18  1581.329956  1590.307251\n",
              "2018-05-21  1585.000000  1589.187256\n",
              "2018-05-22  1589.890015  1593.515503\n",
              "2018-05-23  1571.050049  1597.208008\n",
              "...                 ...          ...\n",
              "2019-12-11  1741.670044  1754.320068\n",
              "2019-12-12  1750.000000  1748.996582\n",
              "2019-12-13  1765.000000  1758.118042\n",
              "2019-12-16  1767.000000  1769.598999\n",
              "2019-12-17  1778.010010  1769.183350\n",
              "\n",
              "[400 rows x 2 columns]"
            ]
          },
          "metadata": {
            "tags": []
          },
          "execution_count": 91
        }
      ]
    },
    {
      "cell_type": "code",
      "metadata": {
        "id": "nYPvphFGfT4U",
        "colab_type": "code",
        "outputId": "030949f3-13af-4ad0-f3c1-d3e461389e04",
        "colab": {
          "base_uri": "https://localhost:8080/",
          "height": 35
        }
      },
      "source": [
        "#Get the Quote\n",
        "amzn_qoute=df = web.DataReader('AMZN', data_source='yahoo', start='2012-01-01', end='2019-12-17')\n",
        "#Creat the new dataframe\n",
        "new_df=amzn_qoute.filter(['Open'])\n",
        "#Get teh last 60 day closing price values and convert the dataframe to an array\n",
        "last_60_days = new_df[-60:].values\n",
        "#Scale the data to be values between 0 and 1\n",
        "last_60_days_scaled = scaler.transform(last_60_days)\n",
        "#Create an empty list\n",
        "X_test = []\n",
        "#Append teh past 60 days\n",
        "X_test.append(last_60_days_scaled)\n",
        "#Convert the X_test data set to a numpy array\n",
        "X_test = np.array(X_test)\n",
        "#Reshape the data\n",
        "X_test = np.reshape(X_test, (X_test.shape[0], X_test.shape[1], 1))\n",
        "#Get the predicted scaled price\n",
        "pred_price = model.predict(X_test)\n",
        "#undo the scaling \n",
        "pred_price = scaler.inverse_transform(pred_price)\n",
        "print(pred_price)"
      ],
      "execution_count": 0,
      "outputs": [
        {
          "output_type": "stream",
          "text": [
            "[[1782.0781]]\n"
          ],
          "name": "stdout"
        }
      ]
    },
    {
      "cell_type": "code",
      "metadata": {
        "id": "UQzCbGSHgd3y",
        "colab_type": "code",
        "outputId": "abcdc1c4-8007-474a-f13e-7171fc326d14",
        "colab": {
          "base_uri": "https://localhost:8080/",
          "height": 72
        }
      },
      "source": [
        "amzn_quote2 = web.DataReader('AMZN', data_source='yahoo', start='2012-12-12', end='2012-12-12')\n",
        "print(amzn_quote2['Open'])"
      ],
      "execution_count": 0,
      "outputs": [
        {
          "output_type": "stream",
          "text": [
            "Date\n",
            "2012-12-12    251.070007\n",
            "Name: Open, dtype: float64\n"
          ],
          "name": "stdout"
        }
      ]
    }
  ]
}